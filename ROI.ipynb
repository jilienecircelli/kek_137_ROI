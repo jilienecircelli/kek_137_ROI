{
 "cells": [
  {
   "cell_type": "code",
   "execution_count": null,
   "id": "21f42f65",
   "metadata": {},
   "outputs": [],
   "source": [
    "class ROICalculator:\n",
    "    def __init__(self):\n",
    "        self.investment = 0\n",
    "        self.income_monthly = 0\n",
    "        self.expense_monthly = 0\n",
    "        self.roi = 0\n",
    "        self.down_payment = 0\n",
    "        self.closing_cost = 0\n",
    "\n",
    "    def input_investment(self):\n",
    "        self.investment = float(input(\"Enter the total investment amount: $\"))\n",
    "\n",
    "    def input_monthly_income(self):\n",
    "        self.income_monthly = float(input(\"Enter the monthly rental income: $\"))\n",
    "\n",
    "    def input_monthly_expenses(self):\n",
    "        self.expense_monthly = float(input(\"Enter the total monthly expenses: $\"))\n",
    "\n",
    "    def input_down_payment(self):\n",
    "        self.down_payment = float(input(\"Enter the down payment amount: $\"))\n",
    "\n",
    "    def input_closing_cost(self):\n",
    "        self.closing_cost = float(input(\"Enter the closing cost amount: $\"))\n",
    "\n",
    "    def calculate_roi(self):\n",
    "        if self.investment != 0:\n",
    "            annual_cash_flow = (self.income_monthly * 12) - self.expense_monthly\n",
    "            self.roi = (annual_cash_flow / self.investment) * 100\n",
    "\n",
    "    def display_results(self):\n",
    "        print(\"\\nROI Calculator Results:\")\n",
    "        print(f\"Total Investment: ${self.investment:.2f}\")\n",
    "        print(f\"Monthly Rental Income: ${self.income_monthly:.2f}\")\n",
    "        print(f\"Monthly Expenses: ${self.expense_monthly:.2f}\")\n",
    "        print(f\"Down Payment: ${self.down_payment:.2f}\")\n",
    "        print(f\"Closing Costs: ${self.closing_cost:.2f}\")\n",
    "        print(f\"ROI: {self.roi:.2f}%\")\n",
    "\n",
    "    def calculate_roi_and_display(self):\n",
    "        self.input_investment()\n",
    "        self.input_monthly_income()\n",
    "        self.input_monthly_expenses()\n",
    "        self.input_down_payment()\n",
    "        self.input_closing_cost()\n",
    "        self.calculate_roi()\n",
    "        self.display_results()\n",
    "\n",
    "if __name__ == \"__main__\":\n",
    "    roi_calculator = ROICalculator()\n",
    "    roi_calculator.calculate_roi_and_display()"
   ]
  },
  {
   "cell_type": "code",
   "execution_count": null,
   "id": "0398b79f",
   "metadata": {},
   "outputs": [],
   "source": []
  },
  {
   "cell_type": "code",
   "execution_count": null,
   "id": "a41e66e7",
   "metadata": {},
   "outputs": [],
   "source": []
  },
  {
   "cell_type": "code",
   "execution_count": null,
   "id": "910cddd1",
   "metadata": {},
   "outputs": [],
   "source": []
  }
 ],
 "metadata": {
  "kernelspec": {
   "display_name": "Python 3 (ipykernel)",
   "language": "python",
   "name": "python3"
  },
  "language_info": {
   "codemirror_mode": {
    "name": "ipython",
    "version": 3
   },
   "file_extension": ".py",
   "mimetype": "text/x-python",
   "name": "python",
   "nbconvert_exporter": "python",
   "pygments_lexer": "ipython3",
   "version": "3.11.5"
  }
 },
 "nbformat": 4,
 "nbformat_minor": 5
}
